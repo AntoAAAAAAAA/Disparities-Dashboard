{
 "cells": [
  {
   "cell_type": "code",
   "execution_count": 2,
   "id": "471aa762",
   "metadata": {},
   "outputs": [],
   "source": [
    "import pandas as pd\n",
    "import numpy as np\n",
    "import geopandas as gpd"
   ]
  },
  {
   "cell_type": "code",
   "execution_count": 9,
   "id": "eff89aa8",
   "metadata": {},
   "outputs": [
    {
     "data": {
      "text/plain": [
       "7          Menard\n",
       "11           Hale\n",
       "13      Armstrong\n",
       "35        Calhoun\n",
       "38           Clay\n",
       "          ...    \n",
       "3177      Hartley\n",
       "3179    Jim Wells\n",
       "3184       Zapata\n",
       "3203       Travis\n",
       "3233       Howard\n",
       "Name: NAME, Length: 254, dtype: object"
      ]
     },
     "execution_count": 9,
     "metadata": {},
     "output_type": "execute_result"
    }
   ],
   "source": [
    "file = gpd.read_file('texas_shapefile.zip')\n",
    "\n",
    "file = file[file['STATEFP'] == '48']\n",
    "file['NAME']"
   ]
  }
 ],
 "metadata": {
  "kernelspec": {
   "display_name": "Python 3",
   "language": "python",
   "name": "python3"
  },
  "language_info": {
   "codemirror_mode": {
    "name": "ipython",
    "version": 3
   },
   "file_extension": ".py",
   "mimetype": "text/x-python",
   "name": "python",
   "nbconvert_exporter": "python",
   "pygments_lexer": "ipython3",
   "version": "3.13.2"
  }
 },
 "nbformat": 4,
 "nbformat_minor": 5
}
