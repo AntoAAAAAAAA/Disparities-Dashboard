data['# Mental Health Providers']
# data['Mental Health Provider Rate']
# data['Mental Health Provider Ratio']

# data['# Primary Care Physicians']
# data['Primary Care Physicians Rate']
# data['Primary Care Physicians Ratio']

# data['# Uninsured']
# data['% Uninsured']